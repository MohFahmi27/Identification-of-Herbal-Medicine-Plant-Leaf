{
  "nbformat": 4,
  "nbformat_minor": 5,
  "metadata": {
    "kernelspec": {
      "display_name": "Python 3",
      "language": "python",
      "name": "python3"
    },
    "language_info": {
      "codemirror_mode": {
        "name": "ipython",
        "version": 3
      },
      "file_extension": ".py",
      "mimetype": "text/x-python",
      "name": "python",
      "nbconvert_exporter": "python",
      "pygments_lexer": "ipython3",
      "version": "3.9.5"
    },
    "colab": {
      "name": "medical_herbal_model.ipynb",
      "provenance": [],
      "collapsed_sections": []
    }
  },
  "cells": [
    {
      "cell_type": "code",
      "metadata": {
        "id": "0772628d"
      },
      "source": [
        "import tensorflow as tf\n",
        "from tensorflow.keras.preprocessing.image import ImageDataGenerator"
      ],
      "id": "0772628d",
      "execution_count": 1,
      "outputs": []
    },
    {
      "cell_type": "code",
      "metadata": {
        "id": "PSDbEdPwraqE"
      },
      "source": [
        "import os\n",
        "import zipfile\n",
        "\n",
        "local_zip = '/tmp/Medicinal-Leaf-Images.zip'\n",
        "\n",
        "zip_ref = zipfile.ZipFile(local_zip, 'r')\n",
        "\n",
        "zip_ref.extractall('/tmp')\n",
        "zip_ref.close()"
      ],
      "id": "PSDbEdPwraqE",
      "execution_count": 2,
      "outputs": []
    },
    {
      "cell_type": "code",
      "metadata": {
        "colab": {
          "base_uri": "https://localhost:8080/"
        },
        "id": "4073f4bd",
        "outputId": "f83ef355-6fb5-4225-e6bb-104d6872f5d8"
      },
      "source": [
        "TRAINING_DIR = \"/tmp/Medicinal-Leaf-Images/Train/\"\n",
        "training_datagen = ImageDataGenerator(rescale = 1/255,\n",
        "                                      rotation_range = 40,\n",
        "                                      width_shift_range = 0.2,\n",
        "                                      height_shift_range = 0.2,\n",
        "                                      shear_range = 0.2,\n",
        "                                      zoom_range = 0.2,\n",
        "                                      horizontal_flip = True,\n",
        "                                      fill_mode = \"nearest\")\n",
        "\n",
        "VALIDATION_DIR = \"/tmp/Medicinal-Leaf-Images/Validation/\"\n",
        "validation_datagen = ImageDataGenerator(rescale = 1/255)\n",
        "\n",
        "train_generator = training_datagen.flow_from_directory(TRAINING_DIR,\n",
        "                                                       target_size = (150, 150),\n",
        "                                                       class_mode = 'categorical',\n",
        "                                                       batch_size = 85\n",
        "                                                       )\n",
        "\n",
        "validation_generator = validation_datagen.flow_from_directory(VALIDATION_DIR,\n",
        "                                                              target_size = (150, 150),\n",
        "                                                              class_mode = \"categorical\",\n",
        "                                                              batch_size = 40)\n",
        "\n",
        "model = tf.keras.models.Sequential([\n",
        "    tf.keras.layers.Conv2D(64, (3,3), activation='relu', input_shape = (150, 150, 3)),\n",
        "    tf.keras.layers.MaxPooling2D(2, 2),\n",
        "    tf.keras.layers.Conv2D(64, (3,3), activation='relu'),\n",
        "    tf.keras.layers.MaxPooling2D(2, 2),\n",
        "    tf.keras.layers.Conv2D(64, (3,3), activation='relu'),\n",
        "    tf.keras.layers.MaxPooling2D(2, 2),\n",
        "    tf.keras.layers.Conv2D(128, (3,3), activation='relu'),\n",
        "    tf.keras.layers.MaxPooling2D(2, 2),\n",
        "    tf.keras.layers.Flatten(),\n",
        "    tf.keras.layers.Dropout(0.5),\n",
        "    tf.keras.layers.Dense(1024, activation='relu'),\n",
        "    tf.keras.layers.Dense(30, activation='softmax')\n",
        "])\n",
        "\n",
        "model.summary()"
      ],
      "id": "4073f4bd",
      "execution_count": 3,
      "outputs": [
        {
          "output_type": "stream",
          "text": [
            "Found 1647 images belonging to 30 classes.\n",
            "Found 188 images belonging to 30 classes.\n",
            "Model: \"sequential\"\n",
            "_________________________________________________________________\n",
            "Layer (type)                 Output Shape              Param #   \n",
            "=================================================================\n",
            "conv2d (Conv2D)              (None, 148, 148, 64)      1792      \n",
            "_________________________________________________________________\n",
            "max_pooling2d (MaxPooling2D) (None, 74, 74, 64)        0         \n",
            "_________________________________________________________________\n",
            "conv2d_1 (Conv2D)            (None, 72, 72, 64)        36928     \n",
            "_________________________________________________________________\n",
            "max_pooling2d_1 (MaxPooling2 (None, 36, 36, 64)        0         \n",
            "_________________________________________________________________\n",
            "conv2d_2 (Conv2D)            (None, 34, 34, 64)        36928     \n",
            "_________________________________________________________________\n",
            "max_pooling2d_2 (MaxPooling2 (None, 17, 17, 64)        0         \n",
            "_________________________________________________________________\n",
            "conv2d_3 (Conv2D)            (None, 15, 15, 128)       73856     \n",
            "_________________________________________________________________\n",
            "max_pooling2d_3 (MaxPooling2 (None, 7, 7, 128)         0         \n",
            "_________________________________________________________________\n",
            "flatten (Flatten)            (None, 6272)              0         \n",
            "_________________________________________________________________\n",
            "dropout (Dropout)            (None, 6272)              0         \n",
            "_________________________________________________________________\n",
            "dense (Dense)                (None, 1024)              6423552   \n",
            "_________________________________________________________________\n",
            "dense_1 (Dense)              (None, 30)                30750     \n",
            "=================================================================\n",
            "Total params: 6,603,806\n",
            "Trainable params: 6,603,806\n",
            "Non-trainable params: 0\n",
            "_________________________________________________________________\n"
          ],
          "name": "stdout"
        }
      ]
    },
    {
      "cell_type": "code",
      "metadata": {
        "id": "221bcade",
        "colab": {
          "base_uri": "https://localhost:8080/"
        },
        "outputId": "43553b7b-d6d9-4730-a5a1-2a848dea631b"
      },
      "source": [
        "model.compile(loss = \"categorical_crossentropy\",\n",
        "              optimizer = 'rmsprop',\n",
        "              metrics = ['accuracy'])\n",
        "\n",
        "training_model = model.fit(train_generator, \n",
        "                           epochs = 130,\n",
        "                           steps_per_epoch = 20,\n",
        "                           validation_data = validation_generator,\n",
        "                           validation_steps = 5,\n",
        "                           verbose = 2)"
      ],
      "id": "221bcade",
      "execution_count": 4,
      "outputs": [
        {
          "output_type": "stream",
          "text": [
            "Epoch 1/130\n",
            "20/20 - 139s - loss: 3.4175 - accuracy: 0.0571 - val_loss: 3.3299 - val_accuracy: 0.0745\n",
            "Epoch 2/130\n",
            "20/20 - 129s - loss: 3.2937 - accuracy: 0.0874 - val_loss: 3.0290 - val_accuracy: 0.1330\n",
            "Epoch 3/130\n",
            "20/20 - 138s - loss: 3.0187 - accuracy: 0.1269 - val_loss: 2.6670 - val_accuracy: 0.1755\n",
            "Epoch 4/130\n",
            "20/20 - 138s - loss: 2.9680 - accuracy: 0.1396 - val_loss: 2.6662 - val_accuracy: 0.2074\n",
            "Epoch 5/130\n",
            "20/20 - 144s - loss: 2.8119 - accuracy: 0.1718 - val_loss: 3.1912 - val_accuracy: 0.1383\n",
            "Epoch 6/130\n",
            "20/20 - 138s - loss: 2.6211 - accuracy: 0.2131 - val_loss: 2.4163 - val_accuracy: 0.2872\n",
            "Epoch 7/130\n",
            "20/20 - 137s - loss: 2.5386 - accuracy: 0.2483 - val_loss: 2.1061 - val_accuracy: 0.3298\n",
            "Epoch 8/130\n",
            "20/20 - 136s - loss: 2.4420 - accuracy: 0.2617 - val_loss: 1.8942 - val_accuracy: 0.4468\n",
            "Epoch 9/130\n",
            "20/20 - 136s - loss: 2.3026 - accuracy: 0.2969 - val_loss: 2.0323 - val_accuracy: 0.3404\n",
            "Epoch 10/130\n",
            "20/20 - 146s - loss: 2.2489 - accuracy: 0.3339 - val_loss: 1.9031 - val_accuracy: 0.3670\n",
            "Epoch 11/130\n",
            "20/20 - 133s - loss: 2.1391 - accuracy: 0.3503 - val_loss: 2.7276 - val_accuracy: 0.2766\n",
            "Epoch 12/130\n",
            "20/20 - 138s - loss: 2.0580 - accuracy: 0.3740 - val_loss: 1.8118 - val_accuracy: 0.4681\n",
            "Epoch 13/130\n",
            "20/20 - 138s - loss: 1.9959 - accuracy: 0.3831 - val_loss: 1.7936 - val_accuracy: 0.4149\n",
            "Epoch 14/130\n",
            "20/20 - 135s - loss: 1.9241 - accuracy: 0.4347 - val_loss: 1.2480 - val_accuracy: 0.5904\n",
            "Epoch 15/130\n",
            "20/20 - 128s - loss: 1.7745 - accuracy: 0.4566 - val_loss: 1.6579 - val_accuracy: 0.4415\n",
            "Epoch 16/130\n",
            "20/20 - 128s - loss: 1.8650 - accuracy: 0.4505 - val_loss: 1.7523 - val_accuracy: 0.4681\n",
            "Epoch 17/130\n",
            "20/20 - 131s - loss: 1.7364 - accuracy: 0.4718 - val_loss: 1.2133 - val_accuracy: 0.5798\n",
            "Epoch 18/130\n",
            "20/20 - 129s - loss: 1.6371 - accuracy: 0.5021 - val_loss: 1.7431 - val_accuracy: 0.4628\n",
            "Epoch 19/130\n",
            "20/20 - 126s - loss: 1.9073 - accuracy: 0.4724 - val_loss: 1.1120 - val_accuracy: 0.6330\n",
            "Epoch 20/130\n",
            "20/20 - 126s - loss: 1.5059 - accuracy: 0.5379 - val_loss: 1.9317 - val_accuracy: 0.3883\n",
            "Epoch 21/130\n",
            "20/20 - 139s - loss: 1.5664 - accuracy: 0.5106 - val_loss: 1.2268 - val_accuracy: 0.5904\n",
            "Epoch 22/130\n",
            "20/20 - 138s - loss: 1.4988 - accuracy: 0.5452 - val_loss: 1.6802 - val_accuracy: 0.5106\n",
            "Epoch 23/130\n",
            "20/20 - 138s - loss: 1.4295 - accuracy: 0.5525 - val_loss: 2.4465 - val_accuracy: 0.3670\n",
            "Epoch 24/130\n",
            "20/20 - 138s - loss: 1.4448 - accuracy: 0.5598 - val_loss: 1.0642 - val_accuracy: 0.6489\n",
            "Epoch 25/130\n",
            "20/20 - 139s - loss: 1.3358 - accuracy: 0.5744 - val_loss: 1.2548 - val_accuracy: 0.5851\n",
            "Epoch 26/130\n",
            "20/20 - 139s - loss: 1.2874 - accuracy: 0.5920 - val_loss: 0.8344 - val_accuracy: 0.7340\n",
            "Epoch 27/130\n",
            "20/20 - 139s - loss: 1.2601 - accuracy: 0.6041 - val_loss: 1.0428 - val_accuracy: 0.6489\n",
            "Epoch 28/130\n",
            "20/20 - 139s - loss: 1.2749 - accuracy: 0.6114 - val_loss: 1.0694 - val_accuracy: 0.6489\n",
            "Epoch 29/130\n",
            "20/20 - 138s - loss: 1.1443 - accuracy: 0.6527 - val_loss: 1.4210 - val_accuracy: 0.5691\n",
            "Epoch 30/130\n",
            "20/20 - 145s - loss: 1.1747 - accuracy: 0.6230 - val_loss: 1.1625 - val_accuracy: 0.6170\n",
            "Epoch 31/130\n",
            "20/20 - 134s - loss: 1.2320 - accuracy: 0.6242 - val_loss: 1.1970 - val_accuracy: 0.6223\n",
            "Epoch 32/130\n",
            "20/20 - 132s - loss: 1.1752 - accuracy: 0.6327 - val_loss: 1.1268 - val_accuracy: 0.6277\n",
            "Epoch 33/130\n",
            "20/20 - 134s - loss: 1.0872 - accuracy: 0.6642 - val_loss: 1.7671 - val_accuracy: 0.5266\n",
            "Epoch 34/130\n",
            "20/20 - 139s - loss: 1.1259 - accuracy: 0.6454 - val_loss: 0.8758 - val_accuracy: 0.7128\n",
            "Epoch 35/130\n",
            "20/20 - 136s - loss: 1.0673 - accuracy: 0.6630 - val_loss: 0.8497 - val_accuracy: 0.7074\n",
            "Epoch 36/130\n",
            "20/20 - 136s - loss: 1.1566 - accuracy: 0.6315 - val_loss: 0.7115 - val_accuracy: 0.7606\n",
            "Epoch 37/130\n",
            "20/20 - 135s - loss: 0.9017 - accuracy: 0.7092 - val_loss: 2.3993 - val_accuracy: 0.4415\n",
            "Epoch 38/130\n",
            "20/20 - 136s - loss: 0.9904 - accuracy: 0.6727 - val_loss: 1.3855 - val_accuracy: 0.5798\n",
            "Epoch 39/130\n",
            "20/20 - 135s - loss: 0.8903 - accuracy: 0.7152 - val_loss: 1.1251 - val_accuracy: 0.6755\n",
            "Epoch 40/130\n",
            "20/20 - 134s - loss: 0.9308 - accuracy: 0.6982 - val_loss: 1.1810 - val_accuracy: 0.6436\n",
            "Epoch 41/130\n",
            "20/20 - 135s - loss: 0.8568 - accuracy: 0.7322 - val_loss: 0.6883 - val_accuracy: 0.7606\n",
            "Epoch 42/130\n",
            "20/20 - 130s - loss: 0.8103 - accuracy: 0.7304 - val_loss: 0.7217 - val_accuracy: 0.7394\n",
            "Epoch 43/130\n",
            "20/20 - 133s - loss: 0.9353 - accuracy: 0.7080 - val_loss: 0.9084 - val_accuracy: 0.7074\n",
            "Epoch 44/130\n",
            "20/20 - 132s - loss: 0.7982 - accuracy: 0.7377 - val_loss: 0.8248 - val_accuracy: 0.7394\n",
            "Epoch 45/130\n",
            "20/20 - 130s - loss: 0.7331 - accuracy: 0.7735 - val_loss: 1.3124 - val_accuracy: 0.6170\n",
            "Epoch 46/130\n",
            "20/20 - 129s - loss: 0.7769 - accuracy: 0.7511 - val_loss: 0.8308 - val_accuracy: 0.7234\n",
            "Epoch 47/130\n",
            "20/20 - 135s - loss: 0.7627 - accuracy: 0.7523 - val_loss: 1.8018 - val_accuracy: 0.6223\n",
            "Epoch 48/130\n",
            "20/20 - 134s - loss: 0.7780 - accuracy: 0.7486 - val_loss: 0.5680 - val_accuracy: 0.8032\n",
            "Epoch 49/130\n",
            "20/20 - 131s - loss: 0.8500 - accuracy: 0.7523 - val_loss: 1.4496 - val_accuracy: 0.6011\n",
            "Epoch 50/130\n",
            "20/20 - 129s - loss: 0.7359 - accuracy: 0.7638 - val_loss: 0.7248 - val_accuracy: 0.7394\n",
            "Epoch 51/130\n",
            "20/20 - 130s - loss: 0.7064 - accuracy: 0.7814 - val_loss: 0.6556 - val_accuracy: 0.7553\n",
            "Epoch 52/130\n",
            "20/20 - 125s - loss: 0.6749 - accuracy: 0.7832 - val_loss: 1.4530 - val_accuracy: 0.6383\n",
            "Epoch 53/130\n",
            "20/20 - 125s - loss: 0.7753 - accuracy: 0.7590 - val_loss: 0.6369 - val_accuracy: 0.7979\n",
            "Epoch 54/130\n",
            "20/20 - 136s - loss: 0.6452 - accuracy: 0.7978 - val_loss: 0.8832 - val_accuracy: 0.7181\n",
            "Epoch 55/130\n",
            "20/20 - 137s - loss: 0.7118 - accuracy: 0.7832 - val_loss: 0.8210 - val_accuracy: 0.7766\n",
            "Epoch 56/130\n",
            "20/20 - 138s - loss: 0.7042 - accuracy: 0.7723 - val_loss: 0.8243 - val_accuracy: 0.7713\n",
            "Epoch 57/130\n",
            "20/20 - 137s - loss: 0.6577 - accuracy: 0.7942 - val_loss: 0.7114 - val_accuracy: 0.7234\n",
            "Epoch 58/130\n",
            "20/20 - 138s - loss: 0.5915 - accuracy: 0.8185 - val_loss: 2.2304 - val_accuracy: 0.4894\n",
            "Epoch 59/130\n",
            "20/20 - 138s - loss: 0.7199 - accuracy: 0.7729 - val_loss: 0.3387 - val_accuracy: 0.8989\n",
            "Epoch 60/130\n",
            "20/20 - 139s - loss: 0.5210 - accuracy: 0.8373 - val_loss: 0.8896 - val_accuracy: 0.7500\n",
            "Epoch 61/130\n",
            "20/20 - 138s - loss: 0.5551 - accuracy: 0.8221 - val_loss: 0.4182 - val_accuracy: 0.8617\n",
            "Epoch 62/130\n",
            "20/20 - 139s - loss: 0.6863 - accuracy: 0.7729 - val_loss: 0.4994 - val_accuracy: 0.8404\n",
            "Epoch 63/130\n",
            "20/20 - 135s - loss: 0.5513 - accuracy: 0.8282 - val_loss: 0.6407 - val_accuracy: 0.8245\n",
            "Epoch 64/130\n",
            "20/20 - 137s - loss: 0.6351 - accuracy: 0.7996 - val_loss: 0.5920 - val_accuracy: 0.7660\n",
            "Epoch 65/130\n",
            "20/20 - 138s - loss: 0.4769 - accuracy: 0.8579 - val_loss: 0.9963 - val_accuracy: 0.7287\n",
            "Epoch 66/130\n",
            "20/20 - 134s - loss: 0.5855 - accuracy: 0.8197 - val_loss: 1.6262 - val_accuracy: 0.6383\n",
            "Epoch 67/130\n",
            "20/20 - 138s - loss: 0.6149 - accuracy: 0.8142 - val_loss: 0.4993 - val_accuracy: 0.8457\n",
            "Epoch 68/130\n",
            "20/20 - 138s - loss: 0.4680 - accuracy: 0.8549 - val_loss: 1.4109 - val_accuracy: 0.6915\n",
            "Epoch 69/130\n",
            "20/20 - 135s - loss: 0.5441 - accuracy: 0.8336 - val_loss: 0.4033 - val_accuracy: 0.8670\n",
            "Epoch 70/130\n",
            "20/20 - 134s - loss: 0.4863 - accuracy: 0.8415 - val_loss: 0.5810 - val_accuracy: 0.8138\n",
            "Epoch 71/130\n",
            "20/20 - 137s - loss: 0.4972 - accuracy: 0.8385 - val_loss: 0.5930 - val_accuracy: 0.7979\n",
            "Epoch 72/130\n",
            "20/20 - 139s - loss: 0.4770 - accuracy: 0.8403 - val_loss: 1.0355 - val_accuracy: 0.7181\n",
            "Epoch 73/130\n",
            "20/20 - 138s - loss: 0.5878 - accuracy: 0.8179 - val_loss: 0.6763 - val_accuracy: 0.7660\n",
            "Epoch 74/130\n",
            "20/20 - 163s - loss: 0.4840 - accuracy: 0.8409 - val_loss: 0.2853 - val_accuracy: 0.9096\n",
            "Epoch 75/130\n",
            "20/20 - 151s - loss: 0.4194 - accuracy: 0.8640 - val_loss: 0.3269 - val_accuracy: 0.8936\n",
            "Epoch 76/130\n",
            "20/20 - 151s - loss: 0.4596 - accuracy: 0.8476 - val_loss: 0.5352 - val_accuracy: 0.8245\n",
            "Epoch 77/130\n",
            "20/20 - 158s - loss: 0.4605 - accuracy: 0.8494 - val_loss: 0.1868 - val_accuracy: 0.9309\n",
            "Epoch 78/130\n",
            "20/20 - 163s - loss: 0.5817 - accuracy: 0.8324 - val_loss: 0.2552 - val_accuracy: 0.8883\n",
            "Epoch 79/130\n",
            "20/20 - 152s - loss: 0.3359 - accuracy: 0.8913 - val_loss: 0.7777 - val_accuracy: 0.8085\n",
            "Epoch 80/130\n",
            "20/20 - 139s - loss: 0.4920 - accuracy: 0.8421 - val_loss: 0.2892 - val_accuracy: 0.9043\n",
            "Epoch 81/130\n",
            "20/20 - 146s - loss: 0.4320 - accuracy: 0.8537 - val_loss: 0.7480 - val_accuracy: 0.7553\n",
            "Epoch 82/130\n",
            "20/20 - 148s - loss: 0.5259 - accuracy: 0.8349 - val_loss: 0.3318 - val_accuracy: 0.8670\n",
            "Epoch 83/130\n",
            "20/20 - 141s - loss: 0.4840 - accuracy: 0.8458 - val_loss: 0.2282 - val_accuracy: 0.9096\n",
            "Epoch 84/130\n",
            "20/20 - 139s - loss: 0.2964 - accuracy: 0.8986 - val_loss: 0.5572 - val_accuracy: 0.8138\n",
            "Epoch 85/130\n",
            "20/20 - 136s - loss: 0.5347 - accuracy: 0.8440 - val_loss: 0.8937 - val_accuracy: 0.7660\n",
            "Epoch 86/130\n",
            "20/20 - 135s - loss: 0.3944 - accuracy: 0.8743 - val_loss: 4.1410 - val_accuracy: 0.4787\n",
            "Epoch 87/130\n",
            "20/20 - 131s - loss: 0.3694 - accuracy: 0.8792 - val_loss: 0.3779 - val_accuracy: 0.8511\n",
            "Epoch 88/130\n",
            "20/20 - 139s - loss: 0.4290 - accuracy: 0.8682 - val_loss: 0.9614 - val_accuracy: 0.7660\n",
            "Epoch 89/130\n",
            "20/20 - 139s - loss: 0.3849 - accuracy: 0.8737 - val_loss: 0.5086 - val_accuracy: 0.8617\n",
            "Epoch 90/130\n",
            "20/20 - 139s - loss: 0.4288 - accuracy: 0.8689 - val_loss: 0.6899 - val_accuracy: 0.8351\n",
            "Epoch 91/130\n",
            "20/20 - 138s - loss: 0.4028 - accuracy: 0.8731 - val_loss: 0.4273 - val_accuracy: 0.8511\n",
            "Epoch 92/130\n",
            "20/20 - 139s - loss: 0.3615 - accuracy: 0.8859 - val_loss: 0.5119 - val_accuracy: 0.8564\n",
            "Epoch 93/130\n",
            "20/20 - 139s - loss: 0.3826 - accuracy: 0.8774 - val_loss: 1.1327 - val_accuracy: 0.7128\n",
            "Epoch 94/130\n",
            "20/20 - 140s - loss: 0.3382 - accuracy: 0.8889 - val_loss: 0.1759 - val_accuracy: 0.9415\n",
            "Epoch 95/130\n",
            "20/20 - 140s - loss: 0.4087 - accuracy: 0.8719 - val_loss: 0.4130 - val_accuracy: 0.8883\n",
            "Epoch 96/130\n",
            "20/20 - 140s - loss: 0.4293 - accuracy: 0.8682 - val_loss: 0.4792 - val_accuracy: 0.8404\n",
            "Epoch 97/130\n",
            "20/20 - 139s - loss: 0.3408 - accuracy: 0.8834 - val_loss: 0.9040 - val_accuracy: 0.7713\n",
            "Epoch 98/130\n",
            "20/20 - 140s - loss: 0.4197 - accuracy: 0.8774 - val_loss: 0.1588 - val_accuracy: 0.9521\n",
            "Epoch 99/130\n",
            "20/20 - 140s - loss: 0.3384 - accuracy: 0.8956 - val_loss: 0.5599 - val_accuracy: 0.8457\n",
            "Epoch 100/130\n",
            "20/20 - 139s - loss: 0.2973 - accuracy: 0.8919 - val_loss: 0.3632 - val_accuracy: 0.8777\n",
            "Epoch 101/130\n",
            "20/20 - 139s - loss: 0.3149 - accuracy: 0.9047 - val_loss: 1.5939 - val_accuracy: 0.7021\n",
            "Epoch 102/130\n",
            "20/20 - 137s - loss: 0.3615 - accuracy: 0.8840 - val_loss: 0.5576 - val_accuracy: 0.8564\n",
            "Epoch 103/130\n",
            "20/20 - 138s - loss: 0.4012 - accuracy: 0.8780 - val_loss: 1.0295 - val_accuracy: 0.7234\n",
            "Epoch 104/130\n",
            "20/20 - 135s - loss: 0.3939 - accuracy: 0.8749 - val_loss: 0.2533 - val_accuracy: 0.9202\n",
            "Epoch 105/130\n",
            "20/20 - 134s - loss: 0.2690 - accuracy: 0.9089 - val_loss: 0.7228 - val_accuracy: 0.8085\n",
            "Epoch 106/130\n",
            "20/20 - 133s - loss: 0.3225 - accuracy: 0.9004 - val_loss: 0.2737 - val_accuracy: 0.9255\n",
            "Epoch 107/130\n",
            "20/20 - 133s - loss: 0.4593 - accuracy: 0.8737 - val_loss: 0.3492 - val_accuracy: 0.8777\n",
            "Epoch 108/130\n",
            "20/20 - 134s - loss: 0.3386 - accuracy: 0.8889 - val_loss: 0.2488 - val_accuracy: 0.9255\n",
            "Epoch 109/130\n",
            "20/20 - 131s - loss: 0.2741 - accuracy: 0.9126 - val_loss: 0.2971 - val_accuracy: 0.9362\n",
            "Epoch 110/130\n",
            "20/20 - 133s - loss: 0.4415 - accuracy: 0.8737 - val_loss: 0.3316 - val_accuracy: 0.9202\n",
            "Epoch 111/130\n",
            "20/20 - 128s - loss: 0.2880 - accuracy: 0.9029 - val_loss: 0.2743 - val_accuracy: 0.9096\n",
            "Epoch 112/130\n",
            "20/20 - 131s - loss: 0.3365 - accuracy: 0.8968 - val_loss: 0.2492 - val_accuracy: 0.9255\n",
            "Epoch 113/130\n",
            "20/20 - 132s - loss: 0.2285 - accuracy: 0.9241 - val_loss: 0.7336 - val_accuracy: 0.8511\n",
            "Epoch 114/130\n",
            "20/20 - 132s - loss: 0.3774 - accuracy: 0.8937 - val_loss: 0.5765 - val_accuracy: 0.8617\n",
            "Epoch 115/130\n",
            "20/20 - 128s - loss: 0.2444 - accuracy: 0.9223 - val_loss: 0.4379 - val_accuracy: 0.8830\n",
            "Epoch 116/130\n",
            "20/20 - 127s - loss: 0.3322 - accuracy: 0.8840 - val_loss: 0.2222 - val_accuracy: 0.9309\n",
            "Epoch 117/130\n",
            "20/20 - 137s - loss: 0.2716 - accuracy: 0.9071 - val_loss: 0.3603 - val_accuracy: 0.8936\n",
            "Epoch 118/130\n",
            "20/20 - 137s - loss: 0.2573 - accuracy: 0.9192 - val_loss: 0.1634 - val_accuracy: 0.9468\n",
            "Epoch 119/130\n",
            "20/20 - 133s - loss: 0.3446 - accuracy: 0.8974 - val_loss: 1.0067 - val_accuracy: 0.7713\n",
            "Epoch 120/130\n",
            "20/20 - 132s - loss: 0.2467 - accuracy: 0.9235 - val_loss: 0.4270 - val_accuracy: 0.8936\n",
            "Epoch 121/130\n",
            "20/20 - 134s - loss: 0.2785 - accuracy: 0.9126 - val_loss: 0.8052 - val_accuracy: 0.8032\n",
            "Epoch 122/130\n",
            "20/20 - 133s - loss: 0.2780 - accuracy: 0.9132 - val_loss: 0.2442 - val_accuracy: 0.9255\n",
            "Epoch 123/130\n",
            "20/20 - 131s - loss: 0.2648 - accuracy: 0.9144 - val_loss: 0.6245 - val_accuracy: 0.8723\n",
            "Epoch 124/130\n",
            "20/20 - 131s - loss: 0.2829 - accuracy: 0.9065 - val_loss: 1.1034 - val_accuracy: 0.8191\n",
            "Epoch 125/130\n",
            "20/20 - 134s - loss: 0.2297 - accuracy: 0.9314 - val_loss: 0.7361 - val_accuracy: 0.8564\n",
            "Epoch 126/130\n",
            "20/20 - 131s - loss: 0.4884 - accuracy: 0.8895 - val_loss: 0.1770 - val_accuracy: 0.9521\n",
            "Epoch 127/130\n",
            "20/20 - 132s - loss: 0.2106 - accuracy: 0.9296 - val_loss: 0.4994 - val_accuracy: 0.8830\n",
            "Epoch 128/130\n",
            "20/20 - 131s - loss: 0.3378 - accuracy: 0.8950 - val_loss: 0.2552 - val_accuracy: 0.8936\n",
            "Epoch 129/130\n",
            "20/20 - 132s - loss: 0.3613 - accuracy: 0.8956 - val_loss: 0.5531 - val_accuracy: 0.8670\n",
            "Epoch 130/130\n",
            "20/20 - 134s - loss: 0.3008 - accuracy: 0.9089 - val_loss: 0.2648 - val_accuracy: 0.9043\n"
          ],
          "name": "stdout"
        }
      ]
    },
    {
      "cell_type": "code",
      "metadata": {
        "id": "e6ac89e5",
        "colab": {
          "base_uri": "https://localhost:8080/",
          "height": 545
        },
        "outputId": "77f06327-32b7-41bd-b28f-430e7788ee18"
      },
      "source": [
        "import matplotlib.pyplot as plt\n",
        "acc = training_model.history['accuracy']\n",
        "val_acc = training_model.history['val_accuracy']\n",
        "loss = training_model.history['loss']\n",
        "val_loss = training_model.history['val_loss']\n",
        "\n",
        "epochs = range(len(acc))\n",
        "\n",
        "plt.plot(epochs, acc, 'r', label='Training accuracy')\n",
        "plt.plot(epochs, val_acc, 'b', label='Validation accuracy')\n",
        "plt.title('Training and validation accuracy')\n",
        "plt.legend(loc=0)\n",
        "plt.figure()\n",
        "\n",
        "plt.plot(epochs, loss, 'r', label='Training Loss')\n",
        "plt.plot(epochs, val_loss, 'b', label='Validation Loss')\n",
        "plt.title('Training and validation loss')\n",
        "plt.legend()\n",
        "\n",
        "\n",
        "plt.show()"
      ],
      "id": "e6ac89e5",
      "execution_count": 5,
      "outputs": [
        {
          "output_type": "display_data",
          "data": {
            "image/png": "[encoded data removed]",
            "text/plain": [
              "<Figure size 432x288 with 1 Axes>"
            ]
          },
          "metadata": {
            "tags": [],
            "needs_background": "light"
          }
        },
        {
          "output_type": "display_data",
          "data": {
            "image/png": "[encoded data removed]",
            "text/plain": [
              "<Figure size 432x288 with 1 Axes>"
            ]
          },
          "metadata": {
            "tags": [],
            "needs_background": "light"
          }
        }
      ]
    },
    {
      "cell_type": "code",
      "metadata": {
        "colab": {
          "resources": {
            "http://localhost:8080/nbextensions/google.colab/files.js": {
              "data": "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",
              "ok": true,
              "headers": [
                [
                  "content-type",
                  "application/javascript"
                ]
              ],
              "status": 200,
              "status_text": ""
            }
          },
          "base_uri": "https://localhost:8080/",
          "height": 108
        },
        "id": "24a94624",
        "outputId": "577c54da-1a70-4723-9bee-7205398d4833"
      },
      "source": [
        "import numpy as np\n",
        "\n",
        "from google.colab import files\n",
        "from keras.preprocessing import image\n",
        "\n",
        "uploaded=files.upload()\n",
        "\n",
        "for fn in uploaded.keys():\n",
        " \n",
        "  # predicting images\n",
        "  path='/content/' + fn\n",
        "  img=image.load_img(path, target_size=(150, 150))\n",
        "  \n",
        "  x=image.img_to_array(img)\n",
        "  x=np.expand_dims(x, axis=0)\n",
        "  images = np.vstack([x])\n",
        "  \n",
        "  classes = model.predict(images, batch_size=10)\n",
        "  \n",
        "  print(classes[0])"
      ],
      "id": "24a94624",
      "execution_count": 17,
      "outputs": [
        {
          "output_type": "display_data",
          "data": {
            "text/html": [
              "\n",
              "     <input type=\"file\" id=\"files-60ec8fda-2dc8-4e24-9427-3c56c6a3d72a\" name=\"files[]\" multiple disabled\n",
              "        style=\"border:none\" />\n",
              "     <output id=\"result-60ec8fda-2dc8-4e24-9427-3c56c6a3d72a\">\n",
              "      Upload widget is only available when the cell has been executed in the\n",
              "      current browser session. Please rerun this cell to enable.\n",
              "      </output>\n",
              "      <script src=\"/nbextensions/google.colab/files.js\"></script> "
            ],
            "text/plain": [
              "<IPython.core.display.HTML object>"
            ]
          },
          "metadata": {
            "tags": []
          }
        },
        {
          "output_type": "stream",
          "text": [
            "Saving to.jpg to to.jpg\n",
            "[1. 0. 0. 0. 0. 0. 0. 0. 0. 0. 0. 0. 0. 0. 0. 0. 0. 0. 0. 0. 0. 0. 0. 0.\n",
            " 0. 0. 0. 0. 0. 0.]\n"
          ],
          "name": "stdout"
        }
      ]
    },
    {
      "cell_type": "code",
      "metadata": {
        "colab": {
          "base_uri": "https://localhost:8080/"
        },
        "id": "4H0Pl7YdcP-f",
        "outputId": "ae3d98ff-5a6c-4b92-a681-1b42b9e05b9f"
      },
      "source": [
        "export_dir = \"/tmp/saved_model\"\n",
        "tf.saved_model.save(model, export_dir)"
      ],
      "id": "4H0Pl7YdcP-f",
      "execution_count": 18,
      "outputs": [
        {
          "output_type": "stream",
          "text": [
            "INFO:tensorflow:Assets written to: /tmp/saved_model/assets\n"
          ],
          "name": "stdout"
        }
      ]
    },
    {
      "cell_type": "code",
      "metadata": {
        "id": "7M3IhvvIfOj9"
      },
      "source": [
        "mode = \"Speed\" \n",
        "\n",
        "if mode == 'Storage':\n",
        "    optimization = tf.lite.Optimize.OPTIMIZE_FOR_SIZE\n",
        "elif mode == 'Speed':\n",
        "    optimization = tf.lite.Optimize.OPTIMIZE_FOR_LATENCY\n",
        "else:\n",
        "    optimization = tf.lite.Optimize.DEFAULT"
      ],
      "id": "7M3IhvvIfOj9",
      "execution_count": 26,
      "outputs": []
    },
    {
      "cell_type": "code",
      "metadata": {
        "id": "vpHP3-eudDjE"
      },
      "source": [
        "converter = tf.lite.TFLiteConverter.from_saved_model(export_dir)\n",
        "converter.optimizations = [optimization]\n",
        "tflite_model = converter.convert()"
      ],
      "id": "vpHP3-eudDjE",
      "execution_count": 27,
      "outputs": []
    },
    {
      "cell_type": "code",
      "metadata": {
        "colab": {
          "base_uri": "https://localhost:8080/"
        },
        "id": "wO95BrDRdVMM",
        "outputId": "8149da3a-d946-46c2-828d-53d530d08900"
      },
      "source": [
        "import pathlib\n",
        "tflite_model_file = pathlib.Path('/tmp/medicinal_plant_leaf_model.tflite')\n",
        "tflite_model_file.write_bytes(tflite_model)"
      ],
      "id": "wO95BrDRdVMM",
      "execution_count": 28,
      "outputs": [
        {
          "output_type": "execute_result",
          "data": {
            "text/plain": [
              "6618512"
            ]
          },
          "metadata": {
            "tags": []
          },
          "execution_count": 28
        }
      ]
    }
  ]
}